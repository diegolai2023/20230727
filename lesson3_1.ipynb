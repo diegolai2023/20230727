{
 "cells": [
  {
   "cell_type": "code",
   "execution_count": null,
   "metadata": {},
   "outputs": [],
   "source": [
    "#讓使用者輸入梯形的上底、下底及高，程式會計算梯形的面積(上底加下底乘以高除以2)\n",
    "top = float(input(\"請輸入梯形的上底(公分):\"))\n",
    "bottom = float(input(\"請輸入梯形的下底(公分):\"))\n",
    "height = float(input(\"請輸入梯形的高(公分):\"))\n",
    "area = (top+bottom)*height/2\n",
    "print(\"梯形的面積:\",round(area,ndigits=2),\"平方公分\")"
   ]
  }
 ],
 "metadata": {
  "language_info": {
   "name": "python"
  },
  "orig_nbformat": 4
 },
 "nbformat": 4,
 "nbformat_minor": 2
}
