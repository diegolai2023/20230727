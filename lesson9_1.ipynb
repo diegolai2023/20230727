{
 "cells": [
  {
   "cell_type": "code",
   "execution_count": 1,
   "metadata": {},
   "outputs": [
    {
     "name": "stdout",
     "output_type": "stream",
     "text": [
      "Hello! Python\n"
     ]
    }
   ],
   "source": [
    "print(\"Hello! Python\")"
   ]
  },
  {
   "cell_type": "code",
   "execution_count": null,
   "metadata": {},
   "outputs": [],
   "source": [
    "with open(\"names.txt\",encoding=\"utf-8\") as file:\n",
    "    names=file.read()\n",
    "names_list=names.split('\\n')\n",
    "for name in names_list:\n",
    "    print(name)"
   ]
  },
  {
   "cell_type": "code",
   "execution_count": 11,
   "metadata": {},
   "outputs": [
    {
     "data": {
      "text/plain": [
       "(['陳怡伶', '馮芳如', '蒙淑惠', '張軒宸', '陳向愛'], ['李淑芳', '謝南慧', '趙家豪', '龐皓芳', '張彥博'])"
      ]
     },
     "execution_count": 11,
     "metadata": {},
     "output_type": "execute_result"
    }
   ],
   "source": [
    "names_list[:5],names_list[-5:]"
   ]
  },
  {
   "cell_type": "code",
   "execution_count": 12,
   "metadata": {},
   "outputs": [
    {
     "data": {
      "text/plain": [
       "299"
      ]
     },
     "execution_count": 12,
     "metadata": {},
     "output_type": "execute_result"
    }
   ],
   "source": [
    "len(names_list)"
   ]
  },
  {
   "cell_type": "code",
   "execution_count": null,
   "metadata": {},
   "outputs": [],
   "source": [
    "with open(\"names.txt\",encoding=\"utf-8\") as file:\n",
    "    names_list=[]\n",
    "    for line in file:\n",
    "        names_list.append(line[:3])\n",
    "\n",
    "file.closed\n",
    "names_list"
   ]
  },
  {
   "cell_type": "code",
   "execution_count": 14,
   "metadata": {},
   "outputs": [
    {
     "name": "stdout",
     "output_type": "stream",
     "text": [
      "賴倩潔\n",
      "賴展人\n",
      "賴世城\n",
      "賴淑枝\n",
      "賴孝邦\n"
     ]
    }
   ],
   "source": [
    "import random\n",
    "\n",
    "random_names = random.choices(names_list,k=5)\n",
    "for name in random_names:\n",
    "    print(\"賴\" + name[-2:])"
   ]
  },
  {
   "cell_type": "code",
   "execution_count": 16,
   "metadata": {},
   "outputs": [
    {
     "name": "stdout",
     "output_type": "stream",
     "text": [
      "賴麗萍\n",
      "賴佩芬\n",
      "賴奇瑄\n"
     ]
    }
   ],
   "source": [
    "import random\n",
    "first_name=input(\"請輸入您的姓:\")\n",
    "count=int(input(\"請輸入您要的筆數:\"))\n",
    "random_names=random.choices(names_list,k=count)\n",
    "for name in random_names:\n",
    "    print(first_name+name[-2:])"
   ]
  },
  {
   "cell_type": "code",
   "execution_count": null,
   "metadata": {},
   "outputs": [],
   "source": [
    "import random\n",
    "\n",
    "def allNames() -> list:\n",
    "    names_list = []\n",
    "    with open(\"names.txt\",encoding=\"utf-8\") as file:    \n",
    "        for line in file:\n",
    "            names_list.append(line[:3])\n",
    "    return names_list\n",
    "\n",
    "print(\"=====取名字系統========\\n\\n\")\n",
    "\n",
    "while(True):\n",
    "    names_list = allNames()\n",
    "    first_name = input(\"請輸入您的姓:\")\n",
    "    count = int(input(\"請輸入您要的筆數:\"))\n",
    "    random_names = random.choices(names_list,k=count)\n",
    "    for name in random_names:\n",
    "        print(first_name + name[-2:])\n",
    "    \n",
    "    again = input(\"您還要繼續嗎?(y,n)\")\n",
    "    if again.lower() == \"n\":\n",
    "        break\n",
    "\n",
    "print(\"系統結束\")\n",
    "    "
   ]
  },
  {
   "cell_type": "code",
   "execution_count": 21,
   "metadata": {},
   "outputs": [
    {
     "data": {
      "text/plain": [
       "([74, 28, 76, 81, 72],\n",
       " [66, 63, 83, 69, 68],\n",
       " [68, 61, 75, 79, 78],\n",
       " [45, 82, 68, 74, 77],\n",
       " [71, 73, 84, 62, 55],\n",
       " [78, 76, 88, 69, 63],\n",
       " [56, 61, 65, 68, 67],\n",
       " [66, 64, 77, 53, 75])"
      ]
     },
     "execution_count": 21,
     "metadata": {},
     "output_type": "execute_result"
    }
   ],
   "source": [
    "#2維list\n",
    "students=[[74,28,76,81,72],\n",
    "          [66,63,83,69,68],\n",
    "          [68,61,75,79,78],\n",
    "          [45,82,68,74,77],\n",
    "          [71,73,84,62,55],\n",
    "          [78,76,88,69,63],\n",
    "          [56,61,65,68,67],\n",
    "          [66,64,77,53,75]]\n",
    "students[0],students[1],students[2],students[3],students[4],students[5],students[6],students[7]"
   ]
  },
  {
   "cell_type": "code",
   "execution_count": 22,
   "metadata": {},
   "outputs": [
    {
     "data": {
      "text/plain": [
       "[[79, 83, 64, 86, 53],\n",
       " [59, 64, 84, 67, 53],\n",
       " [82, 65, 96, 52, 57],\n",
       " [97, 88, 81, 81, 87],\n",
       " [66, 91, 70, 57, 82],\n",
       " [70, 88, 81, 59, 69],\n",
       " [98, 82, 85, 51, 80],\n",
       " [76, 94, 65, 65, 63],\n",
       " [51, 63, 61, 79, 80],\n",
       " [53, 73, 79, 55, 93],\n",
       " [58, 51, 92, 54, 60],\n",
       " [65, 85, 74, 100, 71],\n",
       " [98, 86, 65, 84, 71],\n",
       " [91, 97, 98, 79, 69],\n",
       " [93, 60, 81, 54, 80],\n",
       " [58, 100, 64, 71, 73],\n",
       " [85, 97, 96, 79, 75],\n",
       " [67, 92, 98, 98, 91],\n",
       " [73, 60, 79, 52, 88],\n",
       " [97, 91, 83, 52, 60],\n",
       " [98, 93, 63, 57, 83],\n",
       " [86, 76, 70, 51, 61],\n",
       " [84, 62, 70, 57, 58],\n",
       " [86, 68, 97, 86, 60],\n",
       " [81, 59, 97, 88, 100],\n",
       " [55, 98, 58, 100, 80],\n",
       " [69, 88, 63, 72, 68],\n",
       " [62, 86, 52, 60, 97],\n",
       " [63, 66, 90, 58, 68],\n",
       " [73, 94, 83, 80, 62],\n",
       " [62, 64, 53, 53, 65],\n",
       " [81, 95, 64, 51, 50],\n",
       " [67, 91, 56, 96, 62],\n",
       " [84, 54, 88, 59, 61],\n",
       " [80, 89, 68, 85, 73],\n",
       " [51, 98, 54, 70, 96],\n",
       " [89, 65, 63, 98, 82],\n",
       " [95, 99, 60, 62, 72],\n",
       " [93, 74, 71, 73, 92],\n",
       " [58, 92, 55, 88, 68],\n",
       " [81, 76, 98, 80, 61],\n",
       " [95, 97, 60, 57, 77],\n",
       " [73, 96, 82, 81, 57],\n",
       " [62, 94, 85, 76, 67],\n",
       " [91, 84, 63, 99, 98],\n",
       " [60, 100, 91, 75, 54],\n",
       " [64, 83, 61, 69, 94],\n",
       " [83, 83, 95, 80, 89],\n",
       " [86, 76, 85, 83, 90],\n",
       " [95, 97, 77, 51, 78]]"
      ]
     },
     "execution_count": 22,
     "metadata": {},
     "output_type": "execute_result"
    }
   ],
   "source": [
    "import random\n",
    "def get_score() -> list:\n",
    "    score = []\n",
    "    for i in range(5):\n",
    "        score.append(random.randint(50, 100))\n",
    "    return score\n",
    "\n",
    "students = []\n",
    "for i in range(50):\n",
    "    scores = get_score()\n",
    "    students.append(scores)\n",
    "students"
   ]
  }
 ],
 "metadata": {
  "kernelspec": {
   "display_name": "Python 3",
   "language": "python",
   "name": "python3"
  },
  "language_info": {
   "codemirror_mode": {
    "name": "ipython",
    "version": 3
   },
   "file_extension": ".py",
   "mimetype": "text/x-python",
   "name": "python",
   "nbconvert_exporter": "python",
   "pygments_lexer": "ipython3",
   "version": "3.10.12"
  },
  "orig_nbformat": 4
 },
 "nbformat": 4,
 "nbformat_minor": 2
}
