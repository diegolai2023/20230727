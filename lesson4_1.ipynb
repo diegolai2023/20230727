{
 "cells": [
  {
   "cell_type": "code",
   "execution_count": 49,
   "metadata": {},
   "outputs": [
    {
     "name": "stdout",
     "output_type": "stream",
     "text": [
      "不及格\n"
     ]
    }
   ],
   "source": [
    "score=int(input(\"請輸入學生分數(0~100分):\"))\n",
    "if score >= 60:\n",
    "    print(\"及格\")\n",
    "else:\n",
    "    print(\"不及格\")"
   ]
  },
  {
   "cell_type": "code",
   "execution_count": 53,
   "metadata": {},
   "outputs": [
    {
     "name": "stdout",
     "output_type": "stream",
     "text": [
      "輸入格式錯誤\n"
     ]
    }
   ],
   "source": [
    "try:\n",
    "    money = int(input(\"請輸入金額:\"))\n",
    "    print(money)\n",
    "except:\n",
    "    print(\"輸入格式錯誤\")"
   ]
  },
  {
   "cell_type": "code",
   "execution_count": 65,
   "metadata": {},
   "outputs": [
    {
     "name": "stdout",
     "output_type": "stream",
     "text": [
      "學生等級:優\n"
     ]
    }
   ],
   "source": [
    "#100分(含)到90分為\"優\"\n",
    "#89分(含)到80分為\"甲\"\n",
    "#79分(含)到70分為\"乙\"\n",
    "#69分(含)到60分為\"丙\"\n",
    "#59分(含)以下為\"丁\"\n",
    "score=int(input(\"請輸入學生分數(最高100分):\"))\n",
    "if score >=90:\n",
    "    grade=\"優\"\n",
    "elif score >= 80:\n",
    "    grade=\"甲\"\n",
    "elif score >= 70:\n",
    "    grade=\"乙\"\n",
    "elif score >= 60:\n",
    "    grade = \"丙\"\n",
    "else:\n",
    "    grade = \"丁\"\n",
    "print(f\"學生等級:{grade}\")\n",
    "    \n"
   ]
  },
  {
   "cell_type": "code",
   "execution_count": 56,
   "metadata": {},
   "outputs": [
    {
     "name": "stdout",
     "output_type": "stream",
     "text": [
      "格式錯誤\n"
     ]
    }
   ],
   "source": [
    "#學生總分為300\n",
    "#有些學生可以加分5%\n",
    "#如果加分超過300,就以300分為準\n",
    "try:\n",
    "    score=int(input(\"請輸入學生分數(最高300分):\"))\n",
    "    if score <=300:\n",
    "        is_add=input(\"學生是否符合加分條件(y,n)\")\n",
    "\n",
    "        if(is_add==\"y\"):\n",
    "            score *= 1.05\n",
    "            if score > 300:\n",
    "                score = 300\n",
    "        print(f\"學生分數是{round(score)}\")\n",
    "    else:\n",
    "        print(\"學生分數不可大於300\")\n",
    "except:\n",
    "    print(\"格式錯誤\")"
   ]
  },
  {
   "cell_type": "code",
   "execution_count": 70,
   "metadata": {},
   "outputs": [
    {
     "name": "stdout",
     "output_type": "stream",
     "text": [
      "實付金額:74999\n"
     ]
    }
   ],
   "source": [
    "#輸入顧客購買金額，若金額在\n",
    "#100000元打65折.\n",
    "#50000元打75折.\n",
    "#30000元打85折.\n",
    "#10000元打9折.\n",
    "\n",
    "money=int(input(\"請輸入購買金額\"))\n",
    "payMoney = 0\n",
    "if(money>=100000):\n",
    "    payMoney= money*0.65\n",
    "elif(money>=50000):\n",
    "    payMoney= money*0.75\n",
    "elif(money>=30000):\n",
    "    payMoney= money*0.85\n",
    "elif(money>=10000):\n",
    "    payMoney= money*0.9\n",
    "else:\n",
    "    payMoney= money\n",
    "print(f\"實付金額:{int(payMoney)}\")\n"
   ]
  },
  {
   "cell_type": "code",
   "execution_count": 75,
   "metadata": {},
   "outputs": [
    {
     "name": "stdout",
     "output_type": "stream",
     "text": [
      "普遍級\n"
     ]
    }
   ],
   "source": [
    "#限制級:18歲以上皆可欣賞\n",
    "#輔導級:13(含)~17歲皆可欣賞\n",
    "#普遍級:12歲以下皆可欣賞\n",
    "#若沒有輸入年齡預設為普遍級\n",
    "\n",
    "age=input(\"請輸入年齡\")\n",
    "rating = \"\"\n",
    "\n",
    "if age == '':\n",
    "    rating = '普遍級'\n",
    "elif int(age) >= 18:\n",
    "    rating = '限制級'\n",
    "elif int(age) >= 13:\n",
    "    rating = '輔導級'\n",
    "else:\n",
    "    rating = '普遍級'\n",
    "print(rating)"
   ]
  },
  {
   "cell_type": "code",
   "execution_count": 13,
   "metadata": {},
   "outputs": [
    {
     "name": "stdout",
     "output_type": "stream",
     "text": [
      "您的age是:\n",
      "18\n",
      "程式結束\n"
     ]
    }
   ],
   "source": [
    "a = 21\n",
    "if a > 18:\n",
    "    print(\"您的age是:\")\n",
    "    print(\"18\")\n",
    "\n",
    "print(\"程式結束\")"
   ]
  }
 ],
 "metadata": {
  "kernelspec": {
   "display_name": "Python 3",
   "language": "python",
   "name": "python3"
  },
  "language_info": {
   "codemirror_mode": {
    "name": "ipython",
    "version": 3
   },
   "file_extension": ".py",
   "mimetype": "text/x-python",
   "name": "python",
   "nbconvert_exporter": "python",
   "pygments_lexer": "ipython3",
   "version": "3.10.12"
  },
  "orig_nbformat": 4
 },
 "nbformat": 4,
 "nbformat_minor": 2
}
