{
 "cells": [
  {
   "cell_type": "code",
   "execution_count": 5,
   "metadata": {},
   "outputs": [],
   "source": [
    "class student:\n",
    "    pass"
   ]
  },
  {
   "cell_type": "code",
   "execution_count": 6,
   "metadata": {},
   "outputs": [],
   "source": [
    "stu1=student()\n",
    "stu1.name=\"賴智宸\"\n",
    "stu1.chinese=86\n",
    "stu1.english=83\n",
    "stu1.math=78"
   ]
  },
  {
   "cell_type": "code",
   "execution_count": 7,
   "metadata": {},
   "outputs": [],
   "source": [
    "stu2=student()\n",
    "stu2.name=\"賴奕亨\"\n",
    "stu2.chinese=80\n",
    "stu2.english=88\n",
    "stu2.math=84"
   ]
  },
  {
   "cell_type": "code",
   "execution_count": 8,
   "metadata": {},
   "outputs": [
    {
     "data": {
      "text/plain": [
       "('賴智宸', 86, 83, 78)"
      ]
     },
     "execution_count": 8,
     "metadata": {},
     "output_type": "execute_result"
    }
   ],
   "source": [
    "stu1.name,stu1.chinese,stu1.english,stu1.math\n"
   ]
  },
  {
   "cell_type": "code",
   "execution_count": 9,
   "metadata": {},
   "outputs": [
    {
     "data": {
      "text/plain": [
       "('賴奕亨', 80, 88, 84)"
      ]
     },
     "execution_count": 9,
     "metadata": {},
     "output_type": "execute_result"
    }
   ],
   "source": [
    "stu2.name,stu2.chinese,stu2.english,stu2.math"
   ]
  },
  {
   "cell_type": "code",
   "execution_count": 10,
   "metadata": {},
   "outputs": [],
   "source": [
    "class student:\n",
    "    def __init__(self,name,chinese,english,math):\n",
    "        self.name=name\n",
    "        self.chinese=chinese\n",
    "        self.english=english\n",
    "        self.math=math"
   ]
  },
  {
   "cell_type": "code",
   "execution_count": 11,
   "metadata": {},
   "outputs": [
    {
     "data": {
      "text/plain": [
       "('賴智宸', 86, 83, 78)"
      ]
     },
     "execution_count": 11,
     "metadata": {},
     "output_type": "execute_result"
    }
   ],
   "source": [
    "stu1=student(\"賴智宸\",86,83,78)\n",
    "stu1.name,stu1.chinese,stu1.english,stu1.math"
   ]
  },
  {
   "cell_type": "code",
   "execution_count": 12,
   "metadata": {},
   "outputs": [
    {
     "data": {
      "text/plain": [
       "('賴奕亨', 80, 88, 84)"
      ]
     },
     "execution_count": 12,
     "metadata": {},
     "output_type": "execute_result"
    }
   ],
   "source": [
    "stu2=student(\"賴奕亨\",80,88,84)\n",
    "stu2.name,stu2.chinese,stu2.english,stu2.math"
   ]
  },
  {
   "cell_type": "code",
   "execution_count": 15,
   "metadata": {},
   "outputs": [],
   "source": [
    "class student:\n",
    "    def __init__(self,name,chinese,english,math):\n",
    "        self.name=name\n",
    "        self.chinese=chinese\n",
    "        self.english=english\n",
    "        self.math=math\n",
    "    def total(self)->int:\n",
    "        return self.chinese+self.english+self.math\n",
    "    @property\n",
    "    def average(self)->float:\n",
    "        return self.total()/3.0"
   ]
  },
  {
   "cell_type": "code",
   "execution_count": 16,
   "metadata": {},
   "outputs": [
    {
     "data": {
      "text/plain": [
       "('賴智宸', 86, 83, 78)"
      ]
     },
     "metadata": {},
     "output_type": "display_data"
    },
    {
     "data": {
      "text/plain": [
       "(247, 82.33333333333333)"
      ]
     },
     "execution_count": 16,
     "metadata": {},
     "output_type": "execute_result"
    }
   ],
   "source": [
    "stu1=student(\"賴智宸\",86,83,78)\n",
    "display((stu1.name,stu1.chinese,stu1.english,stu1.math))\n",
    "stu1.total(),stu1.average"
   ]
  },
  {
   "cell_type": "code",
   "execution_count": 17,
   "metadata": {},
   "outputs": [
    {
     "data": {
      "text/plain": [
       "('賴奕亨', 80, 88, 84)"
      ]
     },
     "metadata": {},
     "output_type": "display_data"
    },
    {
     "data": {
      "text/plain": [
       "(252, 84.0)"
      ]
     },
     "execution_count": 17,
     "metadata": {},
     "output_type": "execute_result"
    }
   ],
   "source": [
    "stu2=student(\"賴奕亨\",80,88,84)\n",
    "display((stu2.name,stu2.chinese,stu2.english,stu2.math))\n",
    "stu2.total(),stu2.average"
   ]
  }
 ],
 "metadata": {
  "kernelspec": {
   "display_name": "Python 3",
   "language": "python",
   "name": "python3"
  },
  "language_info": {
   "codemirror_mode": {
    "name": "ipython",
    "version": 3
   },
   "file_extension": ".py",
   "mimetype": "text/x-python",
   "name": "python",
   "nbconvert_exporter": "python",
   "pygments_lexer": "ipython3",
   "version": "3.10.12"
  },
  "orig_nbformat": 4
 },
 "nbformat": 4,
 "nbformat_minor": 2
}
