{
 "cells": [
  {
   "cell_type": "code",
   "execution_count": 1,
   "metadata": {},
   "outputs": [
    {
     "name": "stdout",
     "output_type": "stream",
     "text": [
      "血壓正常\n"
     ]
    }
   ],
   "source": [
    "pressure=int(input(\"請輸入血壓值\"))\n",
    "if pressure>80 and pressure<120:\n",
    "    print(\"血壓正常\")\n",
    "else:\n",
    "    print(\"血壓不正常\")"
   ]
  },
  {
   "cell_type": "code",
   "execution_count": 3,
   "metadata": {},
   "outputs": [
    {
     "name": "stdout",
     "output_type": "stream",
     "text": [
      "10加到100的總和為5005\n"
     ]
    }
   ],
   "source": [
    "start=int(input(\"開始的數值:\"))\n",
    "end=int(input(\"結束的數值\"))\n",
    "total=0\n",
    "for i in range(start,end+1):\n",
    "    total+=i\n",
    "print(f\"{start}加到{end}的總和為{total}\")"
   ]
  },
  {
   "cell_type": "code",
   "execution_count": 8,
   "metadata": {},
   "outputs": [
    {
     "name": "stdout",
     "output_type": "stream",
     "text": [
      "1\n",
      "2\n",
      "3\n",
      "4\n",
      "5\n",
      "程式結束\n"
     ]
    }
   ],
   "source": [
    "#執行5次\n",
    "#列印出1~5\n",
    "#while\n",
    "count=1\n",
    "while count<=5:\n",
    "    print(count)\n",
    "    count+=1\n",
    "\n",
    "print(\"程式結束\")"
   ]
  },
  {
   "cell_type": "code",
   "execution_count": 12,
   "metadata": {},
   "outputs": [
    {
     "name": "stdout",
     "output_type": "stream",
     "text": [
      "恭喜!已經存夠了!存了7個月後總存款為31500元\n"
     ]
    }
   ],
   "source": [
    "moto_price=30000\n",
    "deposit=0\n",
    "month=0\n",
    "while True:\n",
    "    month+=1\n",
    "    save=int(input(f\"請輸入{month}個月份的存款是:\"))\n",
    "    deposit+=save\n",
    "    if deposit>=30000:\n",
    "        break\n",
    "print(f\"恭喜!已經存夠了!存了{month}個月後總存款為{deposit}元\")\n"
   ]
  },
  {
   "cell_type": "code",
   "execution_count": 4,
   "metadata": {},
   "outputs": [
    {
     "name": "stdout",
     "output_type": "stream",
     "text": [
      "輸入的次數是5,所有輸入的正偶數加總是6\n"
     ]
    }
   ],
   "source": [
    "sum=0\n",
    "num=0\n",
    "while True:\n",
    "    input_value=int(input(f\"請輸入第{num+1}個數值:\"))\n",
    "    if input_value<0:\n",
    "        break\n",
    "    num+=1\n",
    "    if input_value%2==1:\n",
    "        continue\n",
    "    sum+=input_value\n",
    "\n",
    "print(f\"輸入的次數是{num},所有輸入的正偶數加總是{sum}\")\n",
    "\n",
    "\n"
   ]
  },
  {
   "cell_type": "code",
   "execution_count": 36,
   "metadata": {},
   "outputs": [
    {
     "data": {
      "text/plain": [
       "2"
      ]
     },
     "execution_count": 36,
     "metadata": {},
     "output_type": "execute_result"
    }
   ],
   "source": [
    "#0~9的亂數\n",
    "import random\n",
    "random .randrange(10)"
   ]
  },
  {
   "cell_type": "code",
   "execution_count": 1,
   "metadata": {},
   "outputs": [
    {
     "name": "stdout",
     "output_type": "stream",
     "text": [
      "遊戲結束\n"
     ]
    }
   ],
   "source": [
    "while True:\n",
    "    play_again=input(\"您還要繼續嗎?(y or n):\")\n",
    "    if play_again=='n':\n",
    "        break\n",
    "    else:\n",
    "        print(\"繼續遊戲\")\n",
    "print(\"遊戲結束\")"
   ]
  },
  {
   "cell_type": "code",
   "execution_count": 4,
   "metadata": {},
   "outputs": [
    {
     "name": "stdout",
     "output_type": "stream",
     "text": [
      "56\n",
      "==========猜數字遊戲==========\n",
      "\n",
      "\n",
      "再小一點\n",
      "您已經猜了1次\n",
      "再大一點\n",
      "您已經猜了2次\n",
      "再大一點\n",
      "您已經猜了3次\n",
      "再小一點\n",
      "您已經猜了4次\n",
      "再小一點\n",
      "您已經猜了5次\n",
      "再小一點\n",
      "您已經猜了6次\n",
      "賓果!猜對了, 答案是:56\n",
      "您總共猜了7次\n",
      "遊戲結束\n"
     ]
    }
   ],
   "source": [
    "import random\n",
    "\n",
    "#自訂的function\n",
    "def play_game():\n",
    "    min = 1\n",
    "    max = 100\n",
    "    target = random.randint(min,max)\n",
    "    print(target)\n",
    "    count = 0\n",
    "    print(\"==========猜數字遊戲==========\\n\\n\")\n",
    "    while True:    \n",
    "        keyin = int(input(f\"猜數字的範圍{min}~{max}:\"))\n",
    "        count += 1\n",
    "        if keyin >= min and keyin <= max:\n",
    "            if(keyin == target):\n",
    "                print(f\"賓果!猜對了, 答案是:{keyin}\")\n",
    "                print(f\"您總共猜了{count}次\")\n",
    "                break\n",
    "            elif(keyin > target):            \n",
    "                print(\"再小一點\")\n",
    "                max = keyin-1\n",
    "                \n",
    "            elif(keyin < target):\n",
    "                print(\"再大一點\")\n",
    "                min = keyin + 1\n",
    "                \n",
    "            print(f\"您已經猜了{count}次\")\n",
    "        else:\n",
    "            print(\"超出範圍\")\n",
    "\n",
    "while True:\n",
    "    play_game()    \n",
    "    play_again = input(\"您還要繼續嗎?(y or n):\")\n",
    "    if play_again == 'n':        \n",
    "        break\n",
    "    else:\n",
    "        continue\n",
    "\n",
    "print(\"遊戲結束\")"
   ]
  },
  {
   "cell_type": "code",
   "execution_count": 5,
   "metadata": {},
   "outputs": [
    {
     "name": "stdout",
     "output_type": "stream",
     "text": [
      "==========猜數字遊戲==========\n",
      "\n",
      "\n",
      "再小一點\n",
      "您已經猜了1次\n",
      "再小一點\n",
      "您已經猜了2次\n",
      "賓果!猜對了, 答案是:14\n",
      "您總共猜了3次\n",
      "GAME OVER!\n"
     ]
    }
   ],
   "source": [
    "import random\n",
    "min = 1\n",
    "max = 100\n",
    "target = random.randint(1,100)\n",
    "count = 0\n",
    "print(\"==========猜數字遊戲==========\\n\\n\")\n",
    "while True:    \n",
    "    keyin = int(input(f\"猜數字的範圍{min}~{max}\"))\n",
    "    count += 1\n",
    "    if keyin >= min and keyin <= max:\n",
    "        if(keyin == target):\n",
    "            print(f\"賓果!猜對了, 答案是:{keyin}\")\n",
    "            print(f\"您總共猜了{count}次\")\n",
    "            break\n",
    "        elif(keyin>target):\n",
    "            print(\"再小一點\")\n",
    "            max=keyin-1\n",
    "        elif(keyin<target):\n",
    "            print(\"再大一點\")\n",
    "            max=keyin+1\n",
    "        print(f\"您已經猜了{count}次\")\n",
    "    else:\n",
    "        print(\"超出範圍!\")\n",
    "print(\"GAME OVER!\")\n"
   ]
  }
 ],
 "metadata": {
  "kernelspec": {
   "display_name": "Python 3",
   "language": "python",
   "name": "python3"
  },
  "language_info": {
   "codemirror_mode": {
    "name": "ipython",
    "version": 3
   },
   "file_extension": ".py",
   "mimetype": "text/x-python",
   "name": "python",
   "nbconvert_exporter": "python",
   "pygments_lexer": "ipython3",
   "version": "3.10.12"
  },
  "orig_nbformat": 4
 },
 "nbformat": 4,
 "nbformat_minor": 2
}
