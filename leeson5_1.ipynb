{
 "cells": [
  {
   "cell_type": "code",
   "execution_count": 35,
   "metadata": {},
   "outputs": [
    {
     "name": "stdout",
     "output_type": "stream",
     "text": [
      "don't forget to \n",
      " work hard \n",
      " be kind \n",
      " and amazing things will happen \n",
      "\n"
     ]
    }
   ],
   "source": [
    "print(\"don't forget to \\n work hard \\n be kind \\n and amazing things will happen \\n\")"
   ]
  },
  {
   "cell_type": "code",
   "execution_count": 4,
   "metadata": {},
   "outputs": [
    {
     "name": "stdout",
     "output_type": "stream",
     "text": [
      "獎金:500\n"
     ]
    }
   ],
   "source": [
    "chinese=int(input(\"請輸入國文分數\"))\n",
    "math=int(input(\"請輸入數學分數\"))\n",
    "#巢狀判斷\n",
    "bonus=0\n",
    "if chinese==100:\n",
    "    if math==100:\n",
    "        bonus=1000\n",
    "    else:\n",
    "        bonus=500\n",
    "elif math==100:\n",
    "    bonus=500\n",
    "\n",
    "print(f\"獎金:{bonus}\")\n",
    "         "
   ]
  },
  {
   "cell_type": "code",
   "execution_count": 12,
   "metadata": {},
   "outputs": [
    {
     "name": "stdout",
     "output_type": "stream",
     "text": [
      "獎金:1000\n"
     ]
    }
   ],
   "source": [
    "chinese=int(input(\"請輸入國文分數\"))\n",
    "math=int(input(\"請輸入數學分數\"))\n",
    "#使用邏輯運算子\n",
    "bonus=0\n",
    "if chinese==100 and math==100:\n",
    "    bonus=1000\n",
    "elif chinese== 100 or math==100:\n",
    "    bonus=500\n",
    "\n",
    "print(f\"獎金:{bonus}\")\n"
   ]
  },
  {
   "cell_type": "code",
   "execution_count": 9,
   "metadata": {},
   "outputs": [
    {
     "name": "stdout",
     "output_type": "stream",
     "text": [
      "不正常\n"
     ]
    }
   ],
   "source": [
    "pressure=int(input(\"請輸入血壓值\"))\n",
    "if pressure>=80 and pressure<=120:\n",
    "    print(\"血壓正常\")\n",
    "else:\n",
    "    print(\"不正常\")\n",
    "    "
   ]
  },
  {
   "cell_type": "code",
   "execution_count": 13,
   "metadata": {},
   "outputs": [
    {
     "name": "stdout",
     "output_type": "stream",
     "text": [
      "亞熱帶和熱帶季風\n"
     ]
    }
   ],
   "source": [
    "rainfall=int(input(\"請輸入雨量\"))\n",
    "if rainfall<=250:\n",
    "    print(\"沙漠\")\n",
    "elif rainfall>=250 and rainfall<=500:\n",
    "    print(\"草原\")\n",
    "elif rainfall>=500 and rainfall<=750:\n",
    "    print(\"溫帶季風\")\n",
    "else:\n",
    "    print(\"亞熱帶和熱帶季風\")"
   ]
  },
  {
   "cell_type": "code",
   "execution_count": 32,
   "metadata": {},
   "outputs": [
    {
     "name": "stdout",
     "output_type": "stream",
     "text": [
      "您的身高:172\n",
      "您的體重:74\n",
      "bmi值:25.01\n",
      "提示:過重\n"
     ]
    }
   ],
   "source": [
    "#bmi計算後分析\n",
    "height=int(input(\"請輸入身高，單位為(公分):\"))\n",
    "weight=int(input(\"請輸入體重，單位為(公斤):\"))\n",
    "\n",
    "bmi=weight/(height/100)**2\n",
    "suggest=\"提示\"\n",
    "\n",
    "if bmi<18.5:\n",
    "    suggest=\"體重過輕\"\n",
    "elif bmi<24:\n",
    "    suggest=\"正常範圍\"\n",
    "elif bmi<27:\n",
    "    suggest=\"過重\"\n",
    "elif bmi<30:\n",
    "    suggest=\"輕度肥胖\"\n",
    "elif bmi<35:\n",
    "    suggest=\"中度肥胖\"\n",
    "else:\n",
    "    suggest=\"重度肥胖\"\n",
    "\n",
    "print(f\"您的身高:{height}\")\n",
    "print(f\"您的體重:{weight}\")\n",
    "#print(f\"bmi值{bmi:.2f}\")\n",
    "print(f\"bmi值:{round(bmi,ndigits=2)}\")\n",
    "print(f\"提示:{suggest}\")"
   ]
  },
  {
   "cell_type": "code",
   "execution_count": 36,
   "metadata": {},
   "outputs": [
    {
     "name": "stdout",
     "output_type": "stream",
     "text": [
      "1\n",
      "2\n",
      "3\n",
      "4\n"
     ]
    }
   ],
   "source": [
    "for i in range(1,5):\n",
    "    print(i)"
   ]
  },
  {
   "cell_type": "code",
   "execution_count": 41,
   "metadata": {},
   "outputs": [
    {
     "name": "stdout",
     "output_type": "stream",
     "text": [
      "1\n",
      "3\n",
      "5\n",
      "7\n",
      "9\n"
     ]
    }
   ],
   "source": [
    "for i in range(1,10,2):\n",
    "    print(i)"
   ]
  },
  {
   "cell_type": "code",
   "execution_count": 45,
   "metadata": {},
   "outputs": [
    {
     "name": "stdout",
     "output_type": "stream",
     "text": [
      "1加到10的加總為55\n"
     ]
    }
   ],
   "source": [
    "end=int(input(\"1加到多少的數值:\"))\n",
    "total=0\n",
    "for i in range(1,end+1):\n",
    "    total+=i\n",
    "\n",
    "print(f\"1加到{end}的加總為{total}\")"
   ]
  },
  {
   "cell_type": "code",
   "execution_count": 43,
   "metadata": {},
   "outputs": [
    {
     "name": "stdout",
     "output_type": "stream",
     "text": [
      "1加到10的加總為55\n"
     ]
    }
   ],
   "source": [
    "start=int(input(\"開始的數值:\"))\n",
    "end=int(input(\"結束的數值:\"))\n",
    "total=0\n",
    "for i in range(start,end+1):\n",
    "    total += i\n",
    "\n",
    "print(f\"{start}加到{end}的加總為{total}\")"
   ]
  },
  {
   "cell_type": "code",
   "execution_count": 48,
   "metadata": {},
   "outputs": [
    {
     "name": "stdout",
     "output_type": "stream",
     "text": [
      "1加到100偶數的加總為2550\n",
      "1加到100奇數的加總為2500\n"
     ]
    }
   ],
   "source": [
    "#1~100,偶數的加總\n",
    "#1~100,奇數的加總\n",
    "eventotal=0\n",
    "oddtotal=0\n",
    "\n",
    "for i in range (1,101):\n",
    "    if i%2==0:\n",
    "        eventotal=eventotal+i\n",
    "    else:\n",
    "        oddtotal=oddtotal+i\n",
    "\n",
    "print(f\"1加到100偶數的加總為{eventotal}\")\n",
    "print(f\"1加到100奇數的加總為{oddtotal}\")"
   ]
  },
  {
   "cell_type": "code",
   "execution_count": 52,
   "metadata": {},
   "outputs": [
    {
     "name": "stdout",
     "output_type": "stream",
     "text": [
      "1加到100的3的倍數的加總為4950\n"
     ]
    }
   ],
   "source": [
    "#1~100,3的倍數的加總\n",
    "total3=0\n",
    "for i in range(1,100):\n",
    "        total3=total3+i\n",
    "print(f\"1加到100的3的倍數的加總為{total3}\")"
   ]
  },
  {
   "cell_type": "code",
   "execution_count": 55,
   "metadata": {},
   "outputs": [
    {
     "name": "stdout",
     "output_type": "stream",
     "text": [
      "i=1\n",
      "1*1=1 1*2=2 1*3=3 1*4=4 1*5=5 1*6=6 1*7=7 1*8=8 1*9=9 \n",
      "i=2\n",
      "2*1=2 2*2=4 2*3=6 2*4=8 2*5=10 2*6=12 2*7=14 2*8=16 2*9=18 \n",
      "i=3\n",
      "3*1=3 3*2=6 3*3=9 3*4=12 3*5=15 3*6=18 3*7=21 3*8=24 3*9=27 \n",
      "i=4\n",
      "4*1=4 4*2=8 4*3=12 4*4=16 4*5=20 4*6=24 4*7=28 4*8=32 4*9=36 \n",
      "i=5\n",
      "5*1=5 5*2=10 5*3=15 5*4=20 5*5=25 5*6=30 5*7=35 5*8=40 5*9=45 \n",
      "i=6\n",
      "6*1=6 6*2=12 6*3=18 6*4=24 6*5=30 6*6=36 6*7=42 6*8=48 6*9=54 \n",
      "i=7\n",
      "7*1=7 7*2=14 7*3=21 7*4=28 7*5=35 7*6=42 7*7=49 7*8=56 7*9=63 \n",
      "i=8\n",
      "8*1=8 8*2=16 8*3=24 8*4=32 8*5=40 8*6=48 8*7=56 8*8=64 8*9=72 \n",
      "i=9\n",
      "9*1=9 9*2=18 9*3=27 9*4=36 9*5=45 9*6=54 9*7=63 9*8=72 9*9=81 \n"
     ]
    }
   ],
   "source": [
    "#巢狀迴圈\n",
    "for i in range (1,10):\n",
    "    print(f\"i={i}\")\n",
    "    for j in range (1,10):\n",
    "        print(f\"{i}*{j}={i*j}\",end=' ')\n",
    "    print()"
   ]
  },
  {
   "cell_type": "code",
   "execution_count": 57,
   "metadata": {},
   "outputs": [
    {
     "name": "stdout",
     "output_type": "stream",
     "text": [
      "1 * 1= 1 1 * 2= 2 1 * 3= 3 1 * 4= 4 1 * 5= 5 1 * 6= 6 1 * 7= 7 1 * 8= 8 1 * 9= 9 \n",
      "2 * 1= 2 2 * 2= 4 2 * 3= 6 2 * 4= 8 2 * 5=10 2 * 6=12 2 * 7=14 2 * 8=16 2 * 9=18 \n",
      "3 * 1= 3 3 * 2= 6 3 * 3= 9 3 * 4=12 3 * 5=15 3 * 6=18 3 * 7=21 3 * 8=24 3 * 9=27 \n",
      "4 * 1= 4 4 * 2= 8 4 * 3=12 4 * 4=16 4 * 5=20 4 * 6=24 4 * 7=28 4 * 8=32 4 * 9=36 \n",
      "5 * 1= 5 5 * 2=10 5 * 3=15 5 * 4=20 5 * 5=25 5 * 6=30 5 * 7=35 5 * 8=40 5 * 9=45 \n",
      "6 * 1= 6 6 * 2=12 6 * 3=18 6 * 4=24 6 * 5=30 6 * 6=36 6 * 7=42 6 * 8=48 6 * 9=54 \n",
      "7 * 1= 7 7 * 2=14 7 * 3=21 7 * 4=28 7 * 5=35 7 * 6=42 7 * 7=49 7 * 8=56 7 * 9=63 \n",
      "8 * 1= 8 8 * 2=16 8 * 3=24 8 * 4=32 8 * 5=40 8 * 6=48 8 * 7=56 8 * 8=64 8 * 9=72 \n",
      "9 * 1= 9 9 * 2=18 9 * 3=27 9 * 4=36 9 * 5=45 9 * 6=54 9 * 7=63 9 * 8=72 9 * 9=81 \n"
     ]
    }
   ],
   "source": [
    "#巢狀迴圈\n",
    "for i in range(1,10):\n",
    "    for j in range(1,10):\n",
    "        print(f\"{i:<2d}*{j:2d}={i*j:2d}\",end=' ')\n",
    "    print()"
   ]
  },
  {
   "cell_type": "code",
   "execution_count": 59,
   "metadata": {},
   "outputs": [
    {
     "name": "stdout",
     "output_type": "stream",
     "text": [
      "73是質數\n"
     ]
    }
   ],
   "source": [
    "is_prime = True\n",
    "num=73\n",
    "for i in range(2,num):\n",
    "    if num%i==0:\n",
    "        is_prime=False\n",
    "\n",
    "if is_prime :\n",
    "    print(f\"{num}是質數\")\n",
    "else:\n",
    "    print(f\"{num}不是質數\")"
   ]
  },
  {
   "cell_type": "code",
   "execution_count": 62,
   "metadata": {},
   "outputs": [
    {
     "name": "stdout",
     "output_type": "stream",
     "text": [
      "1到9的質數是:\n",
      "2 "
     ]
    }
   ],
   "source": [
    "end=int(input(\"請輸入end值:\"))\n",
    "print(f\"1到{end}的質數是:\")\n",
    "for num in range(2,end+1):\n",
    "    is_prime=True\n",
    "    for i in range(2,num):\n",
    "        if num %1==0:\n",
    "            is_prime = False\n",
    "\n",
    "    if is_prime:\n",
    "        print(f\"{num}\",end=\" \")"
   ]
  }
 ],
 "metadata": {
  "kernelspec": {
   "display_name": "Python 3",
   "language": "python",
   "name": "python3"
  },
  "language_info": {
   "codemirror_mode": {
    "name": "ipython",
    "version": 3
   },
   "file_extension": ".py",
   "mimetype": "text/x-python",
   "name": "python",
   "nbconvert_exporter": "python",
   "pygments_lexer": "ipython3",
   "version": "3.10.12"
  },
  "orig_nbformat": 4
 },
 "nbformat": 4,
 "nbformat_minor": 2
}
