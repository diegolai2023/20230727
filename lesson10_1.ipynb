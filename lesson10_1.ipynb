{
 "cells": [
  {
   "cell_type": "code",
   "execution_count": null,
   "metadata": {},
   "outputs": [],
   "source": [
    "import random\n",
    "def get_score() -> list:\n",
    "    score = []\n",
    "    for i in range(5):\n",
    "        score.append(random.randint(50, 100))\n",
    "    return score\n",
    "\n",
    "students = []\n",
    "for i in range(50):\n",
    "    scores = get_score()\n",
    "    students.append(scores)\n",
    "students"
   ]
  },
  {
   "cell_type": "code",
   "execution_count": null,
   "metadata": {},
   "outputs": [],
   "source": [
    "import random\n",
    "def get_score() -> list:\n",
    "    score = []\n",
    "    for i in range(5):\n",
    "        score.append(random.randint(50, 100))\n",
    "    return score\n",
    "\n",
    "nums=int(input(\"請輸入學生數\"))\n",
    "students = []\n",
    "for i in range(nums):\n",
    "    scores = get_score()\n",
    "    students.append(scores)\n",
    "students"
   ]
  },
  {
   "cell_type": "code",
   "execution_count": null,
   "metadata": {},
   "outputs": [],
   "source": [
    "import random\n",
    "def get_score() -> list:\n",
    "    score = []\n",
    "    for i in range(5):\n",
    "        score.append(random.randint(50, 100))\n",
    "    return score\n",
    "\n",
    "nums_list=int(input(\"請輸入學生數\"))\n",
    "#取得30個姓名\n",
    "with open('names.txt',encoding='utf-8',newline='') as file:\n",
    "    names_str=file.read()\n",
    "    all_names_list=names_str.split(sep=\"\\n\")\n",
    "    names_list=random.choices(all_names_list,k=nums_int) #取出一定數量的姓名\n",
    "print(names_list)\n",
    "students = []\n",
    "for _ in range(nums_list):\n",
    "    scores = get_score()\n",
    "    students.append(scores)\n",
    "students"
   ]
  },
  {
   "cell_type": "code",
   "execution_count": null,
   "metadata": {},
   "outputs": [],
   "source": [
    "import random\n",
    "def get_score() -> list:\n",
    "    score = []\n",
    "    for i in range(5):\n",
    "        score.append(random.randint(50, 100))\n",
    "    return score\n",
    "\n",
    "nums_list=int(input(\"請輸入學生數\"))\n",
    "#取得30個姓名\n",
    "with open('names.txt',encoding='utf-8',newline='') as file:\n",
    "    names_str=file.read()\n",
    "    all_names_list=names_str.split(sep=\"\\n\")\n",
    "    names_list=random.choices(all_names_list,k=nums_int) #取出一定數量的姓名\n",
    "\n",
    "students = []\n",
    "for i in range(nums_list):\n",
    "    scores = get_score()\n",
    "    new_list=[names_list[i]]+scores\n",
    "    students.append(new_list)\n",
    "students"
   ]
  },
  {
   "cell_type": "code",
   "execution_count": 30,
   "metadata": {},
   "outputs": [
    {
     "name": "stdout",
     "output_type": "stream",
     "text": [
      "[['白世宏', 84, 99, 63, 62, 68], ['謝南慧', 55, 63, 60, 55, 71], ['李慈啟', 83, 74, 95, 88, 60], ['李政白', 65, 88, 78, 73, 97], ['葉軍仰', 85, 62, 99, 86, 64], ['林玉佩', 88, 95, 51, 84, 67], ['張嘉韋', 99, 76, 76, 89, 86], ['陳怡容', 93, 87, 65, 61, 64], ['張家秀', 72, 89, 96, 94, 59], ['鄭佳玲', 68, 55, 54, 100, 64]]\n"
     ]
    }
   ],
   "source": [
    "import random\n",
    "def get_score() -> list:\n",
    "    score = []\n",
    "    for i in range(5):\n",
    "        score.append(random.randint(50, 100))\n",
    "    return score\n",
    "\n",
    "def get_names(nums:int)->list:\n",
    "    with open('names.txt',encoding='utf-8',newline='') as file:\n",
    "        names_str=file.read()\n",
    "        all_names_list=names_str.split(sep=\"\\n\")\n",
    "        names_list=random.choices(all_names_list,k=nums_int) #取出一定數量的姓名\n",
    "    return names_list\n",
    "\n",
    "nums_int=int(input(\"請輸入學生數:\"))\n",
    "#取得nums_list姓名\n",
    "names_list=get_names(nums_int)\n",
    "students = []\n",
    "for i in range(nums_int):\n",
    "    scores = get_score()\n",
    "    new_list=[names_list[i]]+scores\n",
    "    students.append(new_list)\n",
    "print(students)"
   ]
  },
  {
   "cell_type": "code",
   "execution_count": null,
   "metadata": {},
   "outputs": [],
   "source": [
    "nums_int = int(input(\"請輸入學生數:\"))\n",
    "#取得nums_int個姓名\n",
    "names_list = get_names(nums_int)\n",
    "students = []\n",
    "for i in range(nums_int):\n",
    "    scores = get_score()\n",
    "    new_list = [names_list[i]] + scores\n",
    "    students.append(new_list)\n",
    "students"
   ]
  },
  {
   "cell_type": "code",
   "execution_count": 32,
   "metadata": {},
   "outputs": [
    {
     "name": "stdout",
     "output_type": "stream",
     "text": [
      "存檔成功\n"
     ]
    }
   ],
   "source": [
    "import csv\n",
    "#將2維list儲存為csv檔\n",
    "fileName = input(\"請輸入檔案名:(csv)\")\n",
    "with open(f'{fileName}.csv',mode='w',encoding='utf-8', newline='') as file:\n",
    "    csv_writer = csv.writer(file)\n",
    "    csv_writer.writerows(students)\n",
    "\n",
    "print(\"存檔成功\")"
   ]
  },
  {
   "cell_type": "code",
   "execution_count": 34,
   "metadata": {},
   "outputs": [
    {
     "name": "stdout",
     "output_type": "stream",
     "text": [
      "存檔成功\n"
     ]
    }
   ],
   "source": [
    "import csv\n",
    "#將2維list儲存為csv檔\n",
    "fileName = input(\"請輸入檔案名:(csv)\")\n",
    "with open(f'{fileName}.csv',mode='w',encoding='utf-8', newline='') as file:\n",
    "    csv_writer = csv.writer(file)\n",
    "    csv_writer.writerow(['姓名','國文','英文','數學','地理','歷史'])\n",
    "    csv_writer.writerows(students)\n",
    "\n",
    "print(\"存檔成功\")"
   ]
  },
  {
   "cell_type": "code",
   "execution_count": null,
   "metadata": {},
   "outputs": [],
   "source": [
    "#讀取csv檔成為2維的list\n",
    "import csv\n",
    "with open('數學.csv',encoding='utf-8',newline='') as file:\n",
    "    csv_reader = csv.reader(file)\n",
    "    for row in csv_reader:\n",
    "        print(row)"
   ]
  },
  {
   "cell_type": "code",
   "execution_count": 39,
   "metadata": {},
   "outputs": [
    {
     "data": {
      "text/plain": [
       "[['楊韻如', '89', '52', '82', '92', '92'],\n",
       " ['孫火清', '74', '87', '55', '100', '64'],\n",
       " ['王雅琴', '69', '68', '88', '95', '98'],\n",
       " ['錢欣潔', '58', '63', '67', '99', '82'],\n",
       " ['黃旻林', '91', '83', '77', '87', '52'],\n",
       " ['陳筱涵', '73', '67', '80', '77', '63'],\n",
       " ['李慈啟', '83', '95', '51', '86', '52'],\n",
       " ['黃心航', '96', '50', '63', '87', '80'],\n",
       " ['林清英', '58', '86', '89', '56', '71'],\n",
       " ['王惠皓', '72', '58', '86', '63', '67'],\n",
       " ['羅幸娥', '75', '87', '79', '71', '93'],\n",
       " ['胡姿婷', '91', '97', '69', '64', '73'],\n",
       " ['彭茹靖', '97', '91', '79', '63', '70'],\n",
       " ['林希啟', '89', '68', '59', '89', '53'],\n",
       " ['謝水儒', '80', '59', '89', '74', '57'],\n",
       " ['羅佩樺', '77', '74', '59', '80', '87'],\n",
       " ['余月修', '51', '53', '71', '57', '95'],\n",
       " ['吳晴洋', '66', '74', '64', '87', '91'],\n",
       " ['白世宏', '53', '84', '94', '56', '64'],\n",
       " ['黃政甫', '73', '73', '72', '96', '95'],\n",
       " ['黃心航', '77', '50', '65', '59', '70'],\n",
       " ['王泓泰', '87', '87', '78', '89', '51'],\n",
       " ['劉依婷', '76', '91', '76', '61', '83'],\n",
       " ['錢佩豪', '55', '70', '99', '94', '64'],\n",
       " ['余宗儒', '58', '99', '65', '88', '94'],\n",
       " ['張凱妮', '77', '72', '66', '51', '73'],\n",
       " ['張雅芬', '56', '89', '71', '77', '84'],\n",
       " ['林怡偉', '79', '55', '50', '88', '72'],\n",
       " ['劉耿琦', '62', '53', '94', '76', '97'],\n",
       " ['黃健發', '61', '99', '87', '60', '61'],\n",
       " ['黃麗美', '60', '89', '96', '57', '69'],\n",
       " ['郭淑枝', '76', '78', '77', '69', '89'],\n",
       " ['黎惠雯', '81', '52', '53', '62', '96']]"
      ]
     },
     "metadata": {},
     "output_type": "display_data"
    }
   ],
   "source": [
    "#讀取csv檔成為2維的list\n",
    "import csv\n",
    "with open('數學.csv',encoding='utf-8',newline='') as file:\n",
    "    csv_reader = csv.reader(file)\n",
    "    next(csv_reader)\n",
    "    #print(type(csv_reader))\n",
    "    csv_list=list(csv_reader)\n",
    "display(csv_list)"
   ]
  },
  {
   "cell_type": "code",
   "execution_count": 40,
   "metadata": {},
   "outputs": [
    {
     "name": "stdout",
     "output_type": "stream",
     "text": [
      "['胡姿婷', '91', '97', '69', '64', '73']\n"
     ]
    }
   ],
   "source": [
    "for student in csv_list:\n",
    "    if student[0]=='胡姿婷':\n",
    "        print(student)\n",
    "        break"
   ]
  }
 ],
 "metadata": {
  "kernelspec": {
   "display_name": "Python 3",
   "language": "python",
   "name": "python3"
  },
  "language_info": {
   "codemirror_mode": {
    "name": "ipython",
    "version": 3
   },
   "file_extension": ".py",
   "mimetype": "text/x-python",
   "name": "python",
   "nbconvert_exporter": "python",
   "pygments_lexer": "ipython3",
   "version": "3.10.12"
  },
  "orig_nbformat": 4
 },
 "nbformat": 4,
 "nbformat_minor": 2
}
